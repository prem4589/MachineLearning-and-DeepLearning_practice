{
 "cells": [
  {
   "cell_type": "code",
   "execution_count": 1,
   "metadata": {},
   "outputs": [
    {
     "ename": "ModuleNotFoundError",
     "evalue": "No module named 'yolo_v3'",
     "output_type": "error",
     "traceback": [
      "\u001b[1;31m---------------------------------------------------------------------------\u001b[0m",
      "\u001b[1;31mModuleNotFoundError\u001b[0m                       Traceback (most recent call last)",
      "\u001b[1;32m<ipython-input-1-b7e1587e0a9b>\u001b[0m in \u001b[0;36m<module>\u001b[1;34m\u001b[0m\n\u001b[0;32m      4\u001b[0m \u001b[1;32mimport\u001b[0m \u001b[0mcv2\u001b[0m\u001b[1;33m\u001b[0m\u001b[1;33m\u001b[0m\u001b[0m\n\u001b[0;32m      5\u001b[0m \u001b[1;33m\u001b[0m\u001b[0m\n\u001b[1;32m----> 6\u001b[1;33m \u001b[1;32mfrom\u001b[0m \u001b[0myolo_v3\u001b[0m \u001b[1;32mimport\u001b[0m \u001b[0mYolo_v3\u001b[0m\u001b[1;33m\u001b[0m\u001b[1;33m\u001b[0m\u001b[0m\n\u001b[0m\u001b[0;32m      7\u001b[0m \u001b[1;32mfrom\u001b[0m \u001b[0mutils\u001b[0m \u001b[1;32mimport\u001b[0m \u001b[0mload_images\u001b[0m\u001b[1;33m,\u001b[0m \u001b[0mload_class_names\u001b[0m\u001b[1;33m,\u001b[0m \u001b[0mdraw_boxes\u001b[0m\u001b[1;33m,\u001b[0m \u001b[0mdraw_frame\u001b[0m\u001b[1;33m\u001b[0m\u001b[1;33m\u001b[0m\u001b[0m\n\u001b[0;32m      8\u001b[0m \"\"\"Yolo v3 detection script.\n",
      "\u001b[1;31mModuleNotFoundError\u001b[0m: No module named 'yolo_v3'"
     ]
    }
   ],
   "source": [
    "\n",
    "import tensorflow as tf\n",
    "import sys\n",
    "import cv2\n",
    "\n",
    "from yolo_v3 import Yolo_v3\n",
    "from utils import load_images, load_class_names, draw_boxes, draw_frame\n",
    "\"\"\"Yolo v3 detection script.\n",
    "\n",
    "Saves the detections in the `detection` folder.\n",
    "\n",
    "Usage:\n",
    "    python detect.py <images/video> <iou threshold> <confidence threshold> <filenames>\n",
    "\n",
    "Example:\n",
    "    python detect.py images 0.5 0.5 data/images/dog.jpg data/images/office.jpg\n",
    "    python detect.py video 0.5 0.5 data/video/shinjuku.mp4\n",
    "\n",
    "Note that only one video can be processed at one run.\n",
    "\"\"\"\n",
    "\n",
    "_MODEL_SIZE = (416, 416)\n",
    "_CLASS_NAMES_FILE = 'C:/Users/nq2322/Desktop/YOLO/yolo-v3-master/yolo-v3-master/data/labels/coco.names'\n",
    "_MAX_OUTPUT_SIZE = 20\n",
    "\n",
    "\n",
    "def main(type, iou_threshold, confidence_threshold, input_names):\n",
    "    class_names = load_class_names(_CLASS_NAMES_FILE)\n",
    "    n_classes = len(class_names)\n",
    "\n",
    "    model = Yolo_v3(n_classes=n_classes, model_size=_MODEL_SIZE,\n",
    "                    max_output_size=_MAX_OUTPUT_SIZE,\n",
    "                    iou_threshold=iou_threshold,\n",
    "                    confidence_threshold=confidence_threshold)\n",
    "\n",
    "    if type == 'images':\n",
    "        batch_size = len(input_names)\n",
    "        batch = load_images(input_names, model_size=_MODEL_SIZE)\n",
    "        inputs = tf.placeholder(tf.float32, [batch_size, *_MODEL_SIZE, 3])\n",
    "        detections = model(inputs, training=False)\n",
    "        saver = tf.train.Saver(tf.global_variables(scope='yolo_v3_model'))\n",
    "\n",
    "        with tf.Session() as sess:\n",
    "            saver.restore(sess, 'C:/Users/nq2322/Desktop/YOLO/yolo-v3-master/yolo-v3-master/weights/model.ckpt')\n",
    "            detection_result = sess.run(detections, feed_dict={inputs: batch})\n",
    "\n",
    "        draw_boxes(input_names, detection_result, class_names, _MODEL_SIZE)\n",
    "\n",
    "        print('Detections have been saved successfully.')\n",
    "\n",
    "    elif type == 'video':\n",
    "        inputs = tf.placeholder(tf.float32, [1, *_MODEL_SIZE, 3])\n",
    "        detections = model(inputs, training=False)\n",
    "        saver = tf.train.Saver(tf.global_variables(scope='yolo_v3_model'))\n",
    "\n",
    "        with tf.Session() as sess:\n",
    "            saver.restore(sess, 'C:/Users/nq2322/Desktop/YOLO/yolo-v3-master/yolo-v3-master/weights/model.ckpt')\n",
    "\n",
    "            win_name = 'Video detection'\n",
    "            cv2.namedWindow(win_name)\n",
    "            cap = cv2.VideoCapture(input_names[0])\n",
    "            frame_size = (cap.get(cv2.CAP_PROP_FRAME_WIDTH),\n",
    "                          cap.get(cv2.CAP_PROP_FRAME_HEIGHT))\n",
    "            fourcc = cv2.VideoWriter_fourcc(*'X264')\n",
    "            fps = cap.get(cv2.CAP_PROP_FPS)\n",
    "            out = cv2.VideoWriter('C:/Users/nq2322/Desktop/YOLO/yolo-v3-master/yolo-v3-master/detections/detections.mp4', fourcc, fps,\n",
    "                                  (int(frame_size[0]), int(frame_size[1])))\n",
    "\n",
    "            try:\n",
    "                while True:\n",
    "                    ret, frame = cap.read()\n",
    "                    if not ret:\n",
    "                        break\n",
    "                    resized_frame = cv2.resize(frame, dsize=_MODEL_SIZE[::-1],\n",
    "                                               interpolation=cv2.INTER_NEAREST)\n",
    "                    detection_result = sess.run(detections,\n",
    "                                                feed_dict={inputs: [resized_frame]})\n",
    "\n",
    "                    draw_frame(frame, frame_size, detection_result,\n",
    "                               class_names, _MODEL_SIZE)\n",
    "\n",
    "                    cv2.imshow(win_name, frame)\n",
    "\n",
    "                    key = cv2.waitKey(1) & 0xFF\n",
    "\n",
    "                    if key == ord('q'):\n",
    "                        break\n",
    "\n",
    "                    out.write(frame)\n",
    "            finally:\n",
    "                cv2.destroyAllWindows()\n",
    "                cap.release()\n",
    "                print('Detections have been saved successfully.')\n",
    "\n",
    "    else:\n",
    "        raise ValueError(\"Inappropriate data type. Please choose either 'video' or 'images'.\")\n",
    "\n",
    "\n",
    "if __name__ == '__main__':\n",
    "    main(sys.argv[1], float(sys.argv[2]), float(sys.argv[3]), sys.argv[4:])\n"
   ]
  },
  {
   "cell_type": "code",
   "execution_count": 2,
   "metadata": {},
   "outputs": [
    {
     "ename": "SyntaxError",
     "evalue": "invalid syntax (<ipython-input-2-20ea20853931>, line 1)",
     "output_type": "error",
     "traceback": [
      "\u001b[1;36m  File \u001b[1;32m\"<ipython-input-2-20ea20853931>\"\u001b[1;36m, line \u001b[1;32m1\u001b[0m\n\u001b[1;33m    $ git clone https://github.com/ydixon/yolo_v3\u001b[0m\n\u001b[1;37m    ^\u001b[0m\n\u001b[1;31mSyntaxError\u001b[0m\u001b[1;31m:\u001b[0m invalid syntax\n"
     ]
    }
   ],
   "source": [
    "$ git clone https://github.com/ydixon/yolo_v3"
   ]
  },
  {
   "cell_type": "code",
   "execution_count": null,
   "metadata": {},
   "outputs": [],
   "source": []
  }
 ],
 "metadata": {
  "kernelspec": {
   "display_name": "Python 3",
   "language": "python",
   "name": "python3"
  },
  "language_info": {
   "codemirror_mode": {
    "name": "ipython",
    "version": 3
   },
   "file_extension": ".py",
   "mimetype": "text/x-python",
   "name": "python",
   "nbconvert_exporter": "python",
   "pygments_lexer": "ipython3",
   "version": "3.7.1"
  }
 },
 "nbformat": 4,
 "nbformat_minor": 2
}
